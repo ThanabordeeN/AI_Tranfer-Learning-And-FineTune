{
  "cells": [
    {
      "cell_type": "markdown",
      "metadata": {
        "id": "view-in-github",
        "colab_type": "text"
      },
      "source": [
        "<a href=\"https://colab.research.google.com/github/ThanabordeeN/AI_mini_Project/blob/main/ConV%26MaxPooling.ipynb\" target=\"_parent\"><img src=\"https://colab.research.google.com/assets/colab-badge.svg\" alt=\"Open In Colab\"/></a>"
      ]
    },
    {
      "cell_type": "code",
      "execution_count": null,
      "metadata": {
        "id": "aZG6Lz5xcdlL"
      },
      "outputs": [],
      "source": [
        "import tensorflow as tf\n",
        "tf.random.set_seed(42)\n",
        "from tensorflow import keras\n",
        "from tensorflow.keras import layers\n",
        "import matplotlib.pyplot as plt\n",
        "import pandas as pd\n"
      ]
    },
    {
      "cell_type": "markdown",
      "metadata": {
        "id": "Pl_EwMJec39e"
      },
      "source": [
        "Cov + MaxPooling"
      ]
    },
    {
      "cell_type": "code",
      "execution_count": null,
      "metadata": {
        "colab": {
          "base_uri": "https://localhost:8080/"
        },
        "id": "tzh9uPPxceP_",
        "outputId": "66ee99db-10c5-4c5a-aa38-a45450a04d24"
      },
      "outputs": [
        {
          "name": "stdout",
          "output_type": "stream",
          "text": [
            "Model: \"model\"\n",
            "_________________________________________________________________\n",
            " Layer (type)                Output Shape              Param #   \n",
            "=================================================================\n",
            " input_2 (InputLayer)        [(None, 28, 28, 1)]       0         \n",
            "                                                                 \n",
            " conv2d (Conv2D)             (None, 26, 26, 32)        320       \n",
            "                                                                 \n",
            " max_pooling2d (MaxPooling2D  (None, 13, 13, 32)       0         \n",
            " )                                                               \n",
            "                                                                 \n",
            " conv2d_1 (Conv2D)           (None, 11, 11, 64)        18496     \n",
            "                                                                 \n",
            " max_pooling2d_1 (MaxPooling  (None, 5, 5, 64)         0         \n",
            " 2D)                                                             \n",
            "                                                                 \n",
            " conv2d_2 (Conv2D)           (None, 3, 3, 128)         73856     \n",
            "                                                                 \n",
            " flatten (Flatten)           (None, 1152)              0         \n",
            "                                                                 \n",
            " dense (Dense)               (None, 10)                11530     \n",
            "                                                                 \n",
            "=================================================================\n",
            "Total params: 104,202\n",
            "Trainable params: 104,202\n",
            "Non-trainable params: 0\n",
            "_________________________________________________________________\n"
          ]
        }
      ],
      "source": [
        "inputs = keras.Input(shape=(28, 28, 1))\n",
        "x = layers.Conv2D(filters=32, kernel_size=3, activation=\"relu\")(inputs)\n",
        "x = layers.MaxPooling2D(pool_size=2)(x)\n",
        "x = layers.Conv2D(filters=64, kernel_size=3, activation=\"relu\")(x)\n",
        "x = layers.MaxPooling2D(pool_size=2)(x)\n",
        "x = layers.Conv2D(filters=128, kernel_size=3, activation=\"relu\")(x)\n",
        "x = layers.Flatten()(x)\n",
        "outputs = layers.Dense(10, activation=\"softmax\")(x)\n",
        "model = keras.Model(inputs=inputs, outputs=outputs)\n",
        "model.summary()"
      ]
    },
    {
      "cell_type": "code",
      "execution_count": null,
      "metadata": {
        "colab": {
          "base_uri": "https://localhost:8080/"
        },
        "id": "r5ku9YOidFwn",
        "outputId": "c8cf8c8d-e03f-49b0-88dc-f5caad7b8cf4"
      },
      "outputs": [
        {
          "name": "stdout",
          "output_type": "stream",
          "text": [
            "Downloading data from https://storage.googleapis.com/tensorflow/tf-keras-datasets/mnist.npz\n",
            "11490434/11490434 [==============================] - 1s 0us/step\n"
          ]
        }
      ],
      "source": [
        "from tensorflow.keras.datasets import mnist\n",
        "(train_images, train_labels), (test_images, test_labels) = mnist.load_data()"
      ]
    },
    {
      "cell_type": "code",
      "execution_count": null,
      "metadata": {
        "id": "rK3BduimeHyc"
      },
      "outputs": [],
      "source": [
        "train_images = train_images.reshape((60000, 28, 28, 1))\n",
        "train_images = train_images.astype(\"float32\") / 255\n",
        "test_images = test_images.reshape((10000, 28, 28, 1))\n",
        "test_images = test_images.astype(\"float32\") / 255\n",
        "model.compile(optimizer=\"rmsprop\",loss=\"sparse_categorical_crossentropy\",metrics=[\"accuracy\"])\n",
        "his_trained=model.fit(train_images, train_labels, epochs=5,batch_size=64,validation_data=(test_images, test_labels))\n"
      ]
    },
    {
      "cell_type": "code",
      "execution_count": null,
      "metadata": {
        "colab": {
          "base_uri": "https://localhost:8080/",
          "height": 469
        },
        "id": "jH1-F1Mve252",
        "outputId": "d40e8624-82c7-4200-ae9e-a816a85c54ec"
      },
      "outputs": [
        {
          "data": {
            "text/plain": [
              "Text(0.5, 1.0, 'Model validation curve')"
            ]
          },
          "execution_count": 6,
          "metadata": {},
          "output_type": "execute_result"
        },
        {
          "data": {
            "image/png": "[encoded data removed]",
            "text/plain": [
              "<Figure size 640x480 with 1 Axes>"
            ]
          },
          "metadata": {},
          "output_type": "display_data"
        }
      ],
      "source": [
        "pd.DataFrame(his_trained.history).plot()\n",
        "plt.title(\"Model validation curve\")"
      ]
    },
    {
      "cell_type": "code",
      "execution_count": null,
      "metadata": {
        "colab": {
          "base_uri": "https://localhost:8080/",
          "height": 452
        },
        "id": "fwEodxhjfxu3",
        "outputId": "23c17139-385a-49b5-a473-ba993da1ba1e"
      },
      "outputs": [
        {
          "data": {
            "image/png": "[encoded data removed]",
            "text/plain": [
              "<Figure size 640x480 with 2 Axes>"
            ]
          },
          "metadata": {},
          "output_type": "display_data"
        }
      ],
      "source": [
        "fig=plt.figure(5)\n",
        "ax1=fig.gca()\n",
        "ax1.set_title('acc and val acc')\n",
        "ax1.plot(his_trained.history['accuracy'],'r',label = 'acc')\n",
        "ax1.plot(his_trained.history['val_accuracy'],'g',label = 'val_acc')\n",
        "ax1.legend(loc='center left')\n",
        "ax1.set_ylim(0.8,1)\n",
        "\n",
        "ax2=ax1.twinx()\n",
        "ax2.plot(his_trained.history['loss'],'r--',label = 'loss')\n",
        "ax2.plot(his_trained.history['val_loss'],'g--',label = 'val_loss')\n",
        "ax2.legend(loc='center right')\n",
        "#ax2.set_ylim(0.8,1)\n",
        "plt.show()\n"
      ]
    },
    {
      "cell_type": "code",
      "execution_count": null,
      "metadata": {
        "colab": {
          "base_uri": "https://localhost:8080/"
        },
        "id": "J5_OVaobiyWC",
        "outputId": "46f9db1d-776e-445b-df04-b4868a48fd7e"
      },
      "outputs": [
        {
          "name": "stdout",
          "output_type": "stream",
          "text": [
            "Mounted at /content/gdrive\n"
          ]
        }
      ],
      "source": [
        "from google.colab import drive\n",
        "drive.mount('/content/gdrive')"
      ]
    },
    {
      "cell_type": "code",
      "execution_count": null,
      "metadata": {
        "colab": {
          "base_uri": "https://localhost:8080/"
        },
        "id": "VwheThTvjfqI",
        "outputId": "29553970-5bf6-4e45-d077-49e2414516a6"
      },
      "outputs": [
        {
          "name": "stdout",
          "output_type": "stream",
          "text": [
            "\u001b[0m\u001b[01;34mgdrive\u001b[0m/  \u001b[01;34msample_data\u001b[0m/\n"
          ]
        }
      ],
      "source": [
        "%ls"
      ]
    },
    {
      "cell_type": "code",
      "execution_count": null,
      "metadata": {
        "colab": {
          "base_uri": "https://localhost:8080/"
        },
        "id": "FnNRFBmcjnTo",
        "outputId": "0c8aaabb-3017-42f7-cb4f-c52e64bc92ae"
      },
      "outputs": [
        {
          "name": "stdout",
          "output_type": "stream",
          "text": [
            "/content/gdrive/MyDrive\n"
          ]
        }
      ],
      "source": [
        "%cd gdrive/MyDrive"
      ]
    },
    {
      "cell_type": "code",
      "execution_count": null,
      "metadata": {
        "colab": {
          "base_uri": "https://localhost:8080/"
        },
        "id": "_ZdA6mD3kI4n",
        "outputId": "512a8575-42f3-440e-98dc-146e5eb01fe1"
      },
      "outputs": [
        {
          "name": "stdout",
          "output_type": "stream",
          "text": [
            "replace test_set/test_set/cats/_DS_Store? [y]es, [n]o, [A]ll, [N]one, [r]ename: "
          ]
        }
      ],
      "source": [
        "!unzip -qq dogcat.zip"
      ]
    },
    {
      "cell_type": "code",
      "execution_count": null,
      "metadata": {
        "id": "SMOzK_04nVBy"
      },
      "outputs": [],
      "source": [
        "import os, shutil, pathlib\n",
        "original_dir = r'/content/gdrive/MyDrive/training_set/training_set'\n",
        "new_base_dir = pathlib.Path(\"cats_vs_dogs_small\")\n",
        "def make_subset(subset_name, start_index, end_index):\n",
        "  for category in (\"cats\",\"dogs\"):\n",
        "    dir = new_base_dir/subset_name/category\n",
        "    os.makedirs(dir)\n",
        "    fnames = [\"%s.%d.jpg\"%(category[:len(category)- 1], i) for i in range(start_index, end_index)]\n",
        "    for k in fnames:\n",
        "      try:\n",
        "        shutil.copyfile(src = os.path.join(original_dir, category, k), dst = dir/k)\n",
        "      except FileNotFoundError:\n",
        "        pass"
      ]
    },
    {
      "cell_type": "code",
      "execution_count": null,
      "metadata": {
        "colab": {
          "background_save": true
        },
        "id": "I-3EwEvao_-T"
      },
      "outputs": [],
      "source": [
        "make_subset(\"train\", start_index=0, end_index=1000)\n",
        "make_subset(\"validation\", start_index=1000, end_index=1500)\n",
        "make_subset(\"test\", start_index=1500, end_index=2500)\n"
      ]
    },
    {
      "cell_type": "code",
      "execution_count": null,
      "metadata": {
        "id": "ONr-Np_5pV89"
      },
      "outputs": [],
      "source": [
        "!rm -rf cats_vs_dogs_small\n"
      ]
    },
    {
      "cell_type": "code",
      "execution_count": null,
      "metadata": {
        "id": "eduTwSGd0ZPE"
      },
      "outputs": [],
      "source": [
        "IMG_SIZE = 180\n",
        "\n",
        "data_augmentation = keras.Sequential(\n",
        "[ layers.RandomFlip(\"horizontal\"),layers.RandomRotation(0.1),layers.RandomZoom(0.2),layers.Resizing(IMG_SIZE, IMG_SIZE),  layers.Rescaling(1./255)\n",
        "\n",
        "])"
      ]
    },
    {
      "cell_type": "code",
      "execution_count": null,
      "metadata": {
        "colab": {
          "base_uri": "https://localhost:8080/"
        },
        "id": "MK4KMP5sqZgA",
        "outputId": "73457fb3-4e4a-4515-f2f2-7afb07e7ac5f"
      },
      "outputs": [
        {
          "name": "stdout",
          "output_type": "stream",
          "text": [
            "Model: \"model_1\"\n",
            "_________________________________________________________________\n",
            " Layer (type)                Output Shape              Param #   \n",
            "=================================================================\n",
            " input_2 (InputLayer)        [(None, 180, 180, 3)]     0         \n",
            "                                                                 \n",
            " rescaling_3 (Rescaling)     (None, 180, 180, 3)       0         \n",
            "                                                                 \n",
            " conv2d_5 (Conv2D)           (None, 178, 178, 8)       224       \n",
            "                                                                 \n",
            " max_pooling2d_4 (MaxPooling  (None, 89, 89, 8)        0         \n",
            " 2D)                                                             \n",
            "                                                                 \n",
            " conv2d_6 (Conv2D)           (None, 87, 87, 16)        1168      \n",
            "                                                                 \n",
            " max_pooling2d_5 (MaxPooling  (None, 43, 43, 16)       0         \n",
            " 2D)                                                             \n",
            "                                                                 \n",
            " conv2d_7 (Conv2D)           (None, 41, 41, 32)        4640      \n",
            "                                                                 \n",
            " max_pooling2d_6 (MaxPooling  (None, 20, 20, 32)       0         \n",
            " 2D)                                                             \n",
            "                                                                 \n",
            " conv2d_8 (Conv2D)           (None, 18, 18, 32)        9248      \n",
            "                                                                 \n",
            " max_pooling2d_7 (MaxPooling  (None, 9, 9, 32)         0         \n",
            " 2D)                                                             \n",
            "                                                                 \n",
            " conv2d_9 (Conv2D)           (None, 7, 7, 64)          18496     \n",
            "                                                                 \n",
            " flatten_1 (Flatten)         (None, 3136)              0         \n",
            "                                                                 \n",
            " dropout_1 (Dropout)         (None, 3136)              0         \n",
            "                                                                 \n",
            " dense_1 (Dense)             (None, 1)                 3137      \n",
            "                                                                 \n",
            "=================================================================\n",
            "Total params: 36,913\n",
            "Trainable params: 36,913\n",
            "Non-trainable params: 0\n",
            "_________________________________________________________________\n"
          ]
        }
      ],
      "source": [
        "from tensorflow import keras\n",
        "from tensorflow.keras import layers\n",
        "inputs = keras.Input(shape=(180, 180, 3))\n",
        "x = data_augmentation(inputs)\n",
        "x = layers.Rescaling(1./255)(inputs)#Normalization\n",
        "x = layers.Conv2D(filters=8, kernel_size=3, activation=\"relu\")(x)\n",
        "x = layers.MaxPooling2D(pool_size=2)(x)\n",
        "x = layers.Conv2D(filters=16, kernel_size=3, activation=\"relu\")(x)\n",
        "x = layers.MaxPooling2D(pool_size=2)(x)\n",
        "x = layers.Conv2D(filters=32, kernel_size=3, activation=\"relu\")(x)\n",
        "x = layers.MaxPooling2D(pool_size=2)(x)\n",
        "x = layers.Conv2D(filters=32, kernel_size=3, activation=\"relu\")(x)\n",
        "x = layers.MaxPooling2D(pool_size=2)(x)\n",
        "x = layers.Conv2D(filters=64, kernel_size=3, activation=\"relu\")(x)\n",
        "x = layers.Flatten()(x)\n",
        "x = layers.Dropout(0.5)(x)\n",
        "outputs = layers.Dense(1, activation=\"sigmoid\")(x)\n",
        "model = keras.Model(inputs=inputs, outputs=outputs)\n",
        "model.summary()\n",
        "model.compile(loss=\"binary_crossentropy\",optimizer=\"Adam\",metrics=[\"accuracy\"])"
      ]
    },
    {
      "cell_type": "code",
      "execution_count": null,
      "metadata": {
        "colab": {
          "base_uri": "https://localhost:8080/"
        },
        "id": "fi3IgNg6sKci",
        "outputId": "72404d6c-e2e9-4fd0-c2b3-2f9f4c64505d"
      },
      "outputs": [
        {
          "name": "stdout",
          "output_type": "stream",
          "text": [
            "Found 1998 files belonging to 2 classes.\n",
            "Found 1000 files belonging to 2 classes.\n",
            "Found 2000 files belonging to 2 classes.\n"
          ]
        }
      ],
      "source": [
        "from tensorflow.keras.utils import image_dataset_from_directory\n",
        "train_dataset = image_dataset_from_directory(new_base_dir / \"train\",\n",
        "image_size=(180, 180),\n",
        "batch_size=32)\n",
        "validation_dataset = image_dataset_from_directory(\n",
        "new_base_dir / \"validation\",\n",
        "image_size=(180, 180),\n",
        "batch_size=32)\n",
        "test_dataset = image_dataset_from_directory(\n",
        "new_base_dir / \"test\",\n",
        "image_size=(180, 180),\n",
        "batch_size=32)"
      ]
    },
    {
      "cell_type": "code",
      "execution_count": null,
      "metadata": {
        "colab": {
          "base_uri": "https://localhost:8080/"
        },
        "id": "snjZBRMNssqo",
        "outputId": "22345729-84c1-4888-eb96-dc7bb1b93da9"
      },
      "outputs": [
        {
          "name": "stdout",
          "output_type": "stream",
          "text": [
            "Epoch 1/25\n",
            "63/63 [==============================] - 454s 6s/step - loss: 0.6926 - accuracy: 0.5175 - val_loss: 0.6910 - val_accuracy: 0.4990\n",
            "Epoch 2/25\n",
            "63/63 [==============================] - 10s 145ms/step - loss: 0.6860 - accuracy: 0.5380 - val_loss: 0.6730 - val_accuracy: 0.5870\n",
            "Epoch 3/25\n",
            "63/63 [==============================] - 6s 93ms/step - loss: 0.6612 - accuracy: 0.6036 - val_loss: 0.6453 - val_accuracy: 0.6150\n",
            "Epoch 4/25\n",
            "63/63 [==============================] - 6s 92ms/step - loss: 0.6366 - accuracy: 0.6261 - val_loss: 0.6404 - val_accuracy: 0.6230\n",
            "Epoch 5/25\n",
            "63/63 [==============================] - 10s 146ms/step - loss: 0.6294 - accuracy: 0.6386 - val_loss: 0.6358 - val_accuracy: 0.6290\n",
            "Epoch 6/25\n",
            "63/63 [==============================] - 6s 92ms/step - loss: 0.6294 - accuracy: 0.6431 - val_loss: 0.6142 - val_accuracy: 0.6620\n",
            "Epoch 7/25\n",
            "63/63 [==============================] - 7s 113ms/step - loss: 0.6075 - accuracy: 0.6557 - val_loss: 0.6058 - val_accuracy: 0.6670\n",
            "Epoch 8/25\n",
            "63/63 [==============================] - 7s 103ms/step - loss: 0.5864 - accuracy: 0.6912 - val_loss: 0.6095 - val_accuracy: 0.6680\n",
            "Epoch 9/25\n",
            "63/63 [==============================] - 7s 101ms/step - loss: 0.5635 - accuracy: 0.7032 - val_loss: 0.6070 - val_accuracy: 0.6750\n",
            "Epoch 10/25\n",
            "63/63 [==============================] - 7s 103ms/step - loss: 0.5578 - accuracy: 0.7157 - val_loss: 0.5680 - val_accuracy: 0.7000\n",
            "Epoch 11/25\n",
            "63/63 [==============================] - 6s 95ms/step - loss: 0.5263 - accuracy: 0.7402 - val_loss: 0.5631 - val_accuracy: 0.7100\n",
            "Epoch 12/25\n",
            "63/63 [==============================] - 8s 114ms/step - loss: 0.5057 - accuracy: 0.7482 - val_loss: 0.5494 - val_accuracy: 0.7080\n",
            "Epoch 13/25\n",
            "63/63 [==============================] - 6s 93ms/step - loss: 0.4847 - accuracy: 0.7623 - val_loss: 0.5513 - val_accuracy: 0.7270\n",
            "Epoch 14/25\n",
            "63/63 [==============================] - 8s 116ms/step - loss: 0.4623 - accuracy: 0.7793 - val_loss: 0.5431 - val_accuracy: 0.7240\n",
            "Epoch 15/25\n",
            "63/63 [==============================] - 6s 94ms/step - loss: 0.4426 - accuracy: 0.7928 - val_loss: 0.5243 - val_accuracy: 0.7530\n",
            "Epoch 16/25\n",
            "63/63 [==============================] - 8s 121ms/step - loss: 0.4100 - accuracy: 0.8008 - val_loss: 0.5510 - val_accuracy: 0.7400\n",
            "Epoch 17/25\n",
            "63/63 [==============================] - 6s 96ms/step - loss: 0.3882 - accuracy: 0.8308 - val_loss: 0.5372 - val_accuracy: 0.7520\n",
            "Epoch 18/25\n",
            "63/63 [==============================] - 6s 94ms/step - loss: 0.3790 - accuracy: 0.8358 - val_loss: 0.5683 - val_accuracy: 0.7380\n",
            "Epoch 19/25\n",
            "63/63 [==============================] - 7s 106ms/step - loss: 0.3649 - accuracy: 0.8358 - val_loss: 0.5507 - val_accuracy: 0.7340\n",
            "Epoch 20/25\n",
            "63/63 [==============================] - 7s 99ms/step - loss: 0.3304 - accuracy: 0.8549 - val_loss: 0.5691 - val_accuracy: 0.7380\n",
            "Epoch 21/25\n",
            "63/63 [==============================] - 7s 105ms/step - loss: 0.3032 - accuracy: 0.8694 - val_loss: 0.5500 - val_accuracy: 0.7540\n",
            "Epoch 22/25\n",
            "63/63 [==============================] - 7s 99ms/step - loss: 0.3013 - accuracy: 0.8679 - val_loss: 0.5557 - val_accuracy: 0.7550\n",
            "Epoch 23/25\n",
            "63/63 [==============================] - 7s 105ms/step - loss: 0.2814 - accuracy: 0.8834 - val_loss: 0.5489 - val_accuracy: 0.7650\n",
            "Epoch 24/25\n",
            "63/63 [==============================] - 8s 116ms/step - loss: 0.2618 - accuracy: 0.8884 - val_loss: 0.5698 - val_accuracy: 0.7590\n",
            "Epoch 25/25\n",
            "63/63 [==============================] - 6s 95ms/step - loss: 0.2347 - accuracy: 0.9014 - val_loss: 0.5789 - val_accuracy: 0.7590\n"
          ]
        }
      ],
      "source": [
        "modelll = model.fit(train_dataset,epochs=25, batch_size = 32 ,validation_data=validation_dataset,shuffle = True)"
      ]
    },
    {
      "cell_type": "code",
      "execution_count": null,
      "metadata": {
        "id": "fGCkrfk7vXPN"
      },
      "outputs": [],
      "source": [
        "pd.DataFrame(modelll.history).plot()\n",
        "plt.title(\"Model validation curve\")"
      ]
    },
    {
      "cell_type": "code",
      "execution_count": null,
      "metadata": {
        "id": "pZxujT26wxTj"
      },
      "outputs": [],
      "source": [
        "# summarize history for accuracy\n",
        "import matplotlib.pyplot as plt\n",
        "plt.plot(modelll.history['accuracy'])\n",
        "plt.plot(modelll.history['val_accuracy'])\n",
        "plt.title('model accuracy')\n",
        "plt.ylabel('accuracy')\n",
        "plt.xlabel('epoch')\n",
        "plt.legend(['train', 'test'], loc='upper left')\n",
        "plt.show()\n",
        "# summarize history for loss\n",
        "plt.plot(modelll.history['loss'])\n",
        "plt.plot(modelll.history['val_loss'])\n",
        "plt.title('model loss')\n",
        "plt.ylabel('loss')\n",
        "plt.xlabel('epoch')\n",
        "plt.legend(['train', 'test'], loc='upper left')\n",
        "plt.show()"
      ]
    },
    {
      "cell_type": "code",
      "execution_count": null,
      "metadata": {
        "id": "8kdIvV5r8y4k"
      },
      "outputs": [],
      "source": [
        "model.save(\"catdog.h5\")"
      ]
    }
  ],
  "metadata": {
    "accelerator": "GPU",
    "colab": {
      "provenance": [],
      "include_colab_link": true
    },
    "gpuClass": "standard",
    "kernelspec": {
      "display_name": "Python 3",
      "name": "python3"
    },
    "language_info": {
      "name": "python"
    }
  },
  "nbformat": 4,
  "nbformat_minor": 0
}