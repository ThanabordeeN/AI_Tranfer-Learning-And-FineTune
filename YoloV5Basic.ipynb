{
  "nbformat": 4,
  "nbformat_minor": 0,
  "metadata": {
    "colab": {
      "provenance": [],
      "machine_shape": "hm",
      "gpuType": "V100",
      "mount_file_id": "1RuuVcMdZmgEkr073rqHdYQ06PPPl5Ry3",
      "authorship_tag": "ABX9TyPdAkiip8pddFPWXZCSgR/i",
      "include_colab_link": true
    },
    "kernelspec": {
      "name": "python3",
      "display_name": "Python 3"
    },
    "language_info": {
      "name": "python"
    },
    "accelerator": "GPU"
  },
  "cells": [
    {
      "cell_type": "markdown",
      "metadata": {
        "id": "view-in-github",
        "colab_type": "text"
      },
      "source": [
        "<a href=\"https://colab.research.google.com/github/ThanabordeeN/AI_mini_Project/blob/main/YoloV5Basic.ipynb\" target=\"_parent\"><img src=\"https://colab.research.google.com/assets/colab-badge.svg\" alt=\"Open In Colab\"/></a>"
      ]
    },
    {
      "cell_type": "code",
      "source": [
        "%cd /content/drive/MyDrive/"
      ],
      "metadata": {
        "colab": {
          "base_uri": "https://localhost:8080/"
        },
        "id": "xw3ktx9erhpD",
        "outputId": "7f0d9239-161f-4bdb-edfc-a0419fd5e2f8"
      },
      "execution_count": null,
      "outputs": [
        {
          "output_type": "stream",
          "name": "stdout",
          "text": [
            "/content/drive/MyDrive\n"
          ]
        }
      ]
    },
    {
      "cell_type": "code",
      "execution_count": null,
      "metadata": {
        "colab": {
          "base_uri": "https://localhost:8080/"
        },
        "id": "shfq2llP2D3R",
        "outputId": "501c039d-a9e1-41a8-c91e-32b003c45442"
      },
      "outputs": [
        {
          "output_type": "stream",
          "name": "stdout",
          "text": [
            "/content/drive/MyDrive/YOLOV5\n"
          ]
        }
      ],
      "source": [
        "%cd /content/drive/MyDrive/YOLOV5"
      ]
    },
    {
      "cell_type": "code",
      "source": [
        "%ls -l"
      ],
      "metadata": {
        "colab": {
          "base_uri": "https://localhost:8080/"
        },
        "id": "xQ2PxZ5T23sy",
        "outputId": "c7732132-8eee-4e42-a0ee-bf8be19b0a20"
      },
      "execution_count": null,
      "outputs": [
        {
          "output_type": "stream",
          "name": "stdout",
          "text": [
            "total 188777\n",
            "-rw------- 1 root root      7831 May 30 16:32 benchmarks.py\n",
            "-rw------- 1 root root       393 May 30 16:32 CITATION.cff\n",
            "drwx------ 2 root root      4096 May 31 03:18 \u001b[0m\u001b[01;34mclassify\u001b[0m/\n",
            "-rw------- 1 root root      5009 May 30 16:32 CONTRIBUTING.md\n",
            "drwx------ 2 root root      4096 May 31 03:18 \u001b[01;34mdata\u001b[0m/\n",
            "-rw------- 1 root root       265 Jun 13 03:41 datafro.yaml\n",
            "-rw------- 1 root root       265 Jun 12 17:10 data.yaml\n",
            "-rw------- 1 root root     14320 May 30 16:32 detect.py\n",
            "-rw------- 1 root root     39115 May 30 16:32 export.py\n",
            "-rw------- 1 root root      7769 May 30 16:32 hubconf.py\n",
            "-rw------- 1 root root     34523 May 30 16:32 LICENSE\n",
            "drwx------ 5 root root      4096 May 31 03:18 \u001b[01;34mmodels\u001b[0m/\n",
            "drwx------ 2 root root      4096 May 31 03:39 \u001b[01;34m__pycache__\u001b[0m/\n",
            "-rw------- 1 root root     41308 May 30 16:32 README.md\n",
            "-rw------- 1 root root     40334 May 30 16:32 README.zh-CN.md\n",
            "-rw------- 1 root root      1554 May 30 16:32 requirements.txt\n",
            "drwx------ 2 root root      4096 May 31 03:40 \u001b[01;34mruns\u001b[0m/\n",
            "drwx------ 2 root root      4096 May 31 03:18 \u001b[01;34msegment\u001b[0m/\n",
            "-rw------- 1 root root      1727 May 30 16:32 setup.cfg\n",
            "-rw------- 1 root root     33767 May 30 16:32 train.py\n",
            "-rw------- 1 root root     40908 May 30 16:32 tutorial.ipynb\n",
            "drwx------ 9 root root      4096 May 31 03:18 \u001b[01;34mutils\u001b[0m/\n",
            "-rw------- 1 root root     20452 May 30 16:32 val.py\n",
            "-rw------- 1 root root   4062133 May 31 03:43 yolov5n.pt\n",
            "-rw------- 1 root root  14808437 Jun 13 03:42 yolov5s.pt\n",
            "-rw------- 1 root root 174114333 Jun 13 03:42 yolov5x.pt\n"
          ]
        }
      ]
    },
    {
      "cell_type": "code",
      "source": [
        "!pip install ultralytics"
      ],
      "metadata": {
        "colab": {
          "base_uri": "https://localhost:8080/"
        },
        "id": "129JLy9luwA9",
        "outputId": "1540eacc-1cb2-4aae-d7a6-7944d4385a24"
      },
      "execution_count": null,
      "outputs": [
        {
          "output_type": "stream",
          "name": "stdout",
          "text": [
            "Looking in indexes: https://pypi.org/simple, https://us-python.pkg.dev/colab-wheels/public/simple/\n",
            "Collecting ultralytics\n",
            "  Downloading ultralytics-8.0.117-py3-none-any.whl (599 kB)\n",
            "\u001b[2K     \u001b[90m━━━━━━━━━━━━━━━━━━━━━━━━━━━━━━━━━━━━━━\u001b[0m \u001b[32m599.6/599.6 kB\u001b[0m \u001b[31m25.6 MB/s\u001b[0m eta \u001b[36m0:00:00\u001b[0m\n",
            "\u001b[?25hRequirement already satisfied: matplotlib>=3.2.2 in /usr/local/lib/python3.10/dist-packages (from ultralytics) (3.7.1)\n",
            "Requirement already satisfied: opencv-python>=4.6.0 in /usr/local/lib/python3.10/dist-packages (from ultralytics) (4.7.0.72)\n",
            "Requirement already satisfied: Pillow>=7.1.2 in /usr/local/lib/python3.10/dist-packages (from ultralytics) (8.4.0)\n",
            "Requirement already satisfied: PyYAML>=5.3.1 in /usr/local/lib/python3.10/dist-packages (from ultralytics) (6.0)\n",
            "Requirement already satisfied: requests>=2.23.0 in /usr/local/lib/python3.10/dist-packages (from ultralytics) (2.27.1)\n",
            "Requirement already satisfied: scipy>=1.4.1 in /usr/local/lib/python3.10/dist-packages (from ultralytics) (1.10.1)\n",
            "Requirement already satisfied: torch>=1.7.0 in /usr/local/lib/python3.10/dist-packages (from ultralytics) (2.0.1+cu118)\n",
            "Requirement already satisfied: torchvision>=0.8.1 in /usr/local/lib/python3.10/dist-packages (from ultralytics) (0.15.2+cu118)\n",
            "Requirement already satisfied: tqdm>=4.64.0 in /usr/local/lib/python3.10/dist-packages (from ultralytics) (4.65.0)\n",
            "Requirement already satisfied: pandas>=1.1.4 in /usr/local/lib/python3.10/dist-packages (from ultralytics) (1.5.3)\n",
            "Requirement already satisfied: seaborn>=0.11.0 in /usr/local/lib/python3.10/dist-packages (from ultralytics) (0.12.2)\n",
            "Requirement already satisfied: psutil in /usr/local/lib/python3.10/dist-packages (from ultralytics) (5.9.5)\n",
            "Requirement already satisfied: contourpy>=1.0.1 in /usr/local/lib/python3.10/dist-packages (from matplotlib>=3.2.2->ultralytics) (1.0.7)\n",
            "Requirement already satisfied: cycler>=0.10 in /usr/local/lib/python3.10/dist-packages (from matplotlib>=3.2.2->ultralytics) (0.11.0)\n",
            "Requirement already satisfied: fonttools>=4.22.0 in /usr/local/lib/python3.10/dist-packages (from matplotlib>=3.2.2->ultralytics) (4.39.3)\n",
            "Requirement already satisfied: kiwisolver>=1.0.1 in /usr/local/lib/python3.10/dist-packages (from matplotlib>=3.2.2->ultralytics) (1.4.4)\n",
            "Requirement already satisfied: numpy>=1.20 in /usr/local/lib/python3.10/dist-packages (from matplotlib>=3.2.2->ultralytics) (1.22.4)\n",
            "Requirement already satisfied: packaging>=20.0 in /usr/local/lib/python3.10/dist-packages (from matplotlib>=3.2.2->ultralytics) (23.1)\n",
            "Requirement already satisfied: pyparsing>=2.3.1 in /usr/local/lib/python3.10/dist-packages (from matplotlib>=3.2.2->ultralytics) (3.0.9)\n",
            "Requirement already satisfied: python-dateutil>=2.7 in /usr/local/lib/python3.10/dist-packages (from matplotlib>=3.2.2->ultralytics) (2.8.2)\n",
            "Requirement already satisfied: pytz>=2020.1 in /usr/local/lib/python3.10/dist-packages (from pandas>=1.1.4->ultralytics) (2022.7.1)\n",
            "Requirement already satisfied: urllib3<1.27,>=1.21.1 in /usr/local/lib/python3.10/dist-packages (from requests>=2.23.0->ultralytics) (1.26.15)\n",
            "Requirement already satisfied: certifi>=2017.4.17 in /usr/local/lib/python3.10/dist-packages (from requests>=2.23.0->ultralytics) (2022.12.7)\n",
            "Requirement already satisfied: charset-normalizer~=2.0.0 in /usr/local/lib/python3.10/dist-packages (from requests>=2.23.0->ultralytics) (2.0.12)\n",
            "Requirement already satisfied: idna<4,>=2.5 in /usr/local/lib/python3.10/dist-packages (from requests>=2.23.0->ultralytics) (3.4)\n",
            "Requirement already satisfied: filelock in /usr/local/lib/python3.10/dist-packages (from torch>=1.7.0->ultralytics) (3.12.0)\n",
            "Requirement already satisfied: typing-extensions in /usr/local/lib/python3.10/dist-packages (from torch>=1.7.0->ultralytics) (4.5.0)\n",
            "Requirement already satisfied: sympy in /usr/local/lib/python3.10/dist-packages (from torch>=1.7.0->ultralytics) (1.11.1)\n",
            "Requirement already satisfied: networkx in /usr/local/lib/python3.10/dist-packages (from torch>=1.7.0->ultralytics) (3.1)\n",
            "Requirement already satisfied: jinja2 in /usr/local/lib/python3.10/dist-packages (from torch>=1.7.0->ultralytics) (3.1.2)\n",
            "Requirement already satisfied: triton==2.0.0 in /usr/local/lib/python3.10/dist-packages (from torch>=1.7.0->ultralytics) (2.0.0)\n",
            "Requirement already satisfied: cmake in /usr/local/lib/python3.10/dist-packages (from triton==2.0.0->torch>=1.7.0->ultralytics) (3.25.2)\n",
            "Requirement already satisfied: lit in /usr/local/lib/python3.10/dist-packages (from triton==2.0.0->torch>=1.7.0->ultralytics) (16.0.5)\n",
            "Requirement already satisfied: six>=1.5 in /usr/local/lib/python3.10/dist-packages (from python-dateutil>=2.7->matplotlib>=3.2.2->ultralytics) (1.16.0)\n",
            "Requirement already satisfied: MarkupSafe>=2.0 in /usr/local/lib/python3.10/dist-packages (from jinja2->torch>=1.7.0->ultralytics) (2.1.2)\n",
            "Requirement already satisfied: mpmath>=0.19 in /usr/local/lib/python3.10/dist-packages (from sympy->torch>=1.7.0->ultralytics) (1.3.0)\n",
            "Installing collected packages: ultralytics\n",
            "Successfully installed ultralytics-8.0.117\n"
          ]
        }
      ]
    },
    {
      "cell_type": "code",
      "source": [
        "!pip install -r requirements.txt"
      ],
      "metadata": {
        "colab": {
          "base_uri": "https://localhost:8080/"
        },
        "id": "Z_Mlxlag3K3G",
        "outputId": "89d788c4-fd91-40aa-cc10-3c59ea76d537"
      },
      "execution_count": null,
      "outputs": [
        {
          "output_type": "stream",
          "name": "stdout",
          "text": [
            "Looking in indexes: https://pypi.org/simple, https://us-python.pkg.dev/colab-wheels/public/simple/\n",
            "Requirement already satisfied: gitpython>=3.1.30 in /usr/local/lib/python3.10/dist-packages (from -r requirements.txt (line 5)) (3.1.31)\n",
            "Requirement already satisfied: matplotlib>=3.3 in /usr/local/lib/python3.10/dist-packages (from -r requirements.txt (line 6)) (3.7.1)\n",
            "Requirement already satisfied: numpy>=1.18.5 in /usr/local/lib/python3.10/dist-packages (from -r requirements.txt (line 7)) (1.22.4)\n",
            "Requirement already satisfied: opencv-python>=4.1.1 in /usr/local/lib/python3.10/dist-packages (from -r requirements.txt (line 8)) (4.7.0.72)\n",
            "Requirement already satisfied: Pillow>=7.1.2 in /usr/local/lib/python3.10/dist-packages (from -r requirements.txt (line 9)) (8.4.0)\n",
            "Requirement already satisfied: psutil in /usr/local/lib/python3.10/dist-packages (from -r requirements.txt (line 10)) (5.9.5)\n",
            "Requirement already satisfied: PyYAML>=5.3.1 in /usr/local/lib/python3.10/dist-packages (from -r requirements.txt (line 11)) (6.0)\n",
            "Requirement already satisfied: requests>=2.23.0 in /usr/local/lib/python3.10/dist-packages (from -r requirements.txt (line 12)) (2.27.1)\n",
            "Requirement already satisfied: scipy>=1.4.1 in /usr/local/lib/python3.10/dist-packages (from -r requirements.txt (line 13)) (1.10.1)\n",
            "Requirement already satisfied: thop>=0.1.1 in /usr/local/lib/python3.10/dist-packages (from -r requirements.txt (line 14)) (0.1.1.post2209072238)\n",
            "Requirement already satisfied: torch>=1.7.0 in /usr/local/lib/python3.10/dist-packages (from -r requirements.txt (line 15)) (2.0.1+cu118)\n",
            "Requirement already satisfied: torchvision>=0.8.1 in /usr/local/lib/python3.10/dist-packages (from -r requirements.txt (line 16)) (0.15.2+cu118)\n",
            "Requirement already satisfied: tqdm>=4.64.0 in /usr/local/lib/python3.10/dist-packages (from -r requirements.txt (line 17)) (4.65.0)\n",
            "Requirement already satisfied: ultralytics>=8.0.100 in /usr/local/lib/python3.10/dist-packages (from -r requirements.txt (line 18)) (8.0.117)\n",
            "Requirement already satisfied: pandas>=1.1.4 in /usr/local/lib/python3.10/dist-packages (from -r requirements.txt (line 27)) (1.5.3)\n",
            "Requirement already satisfied: seaborn>=0.11.0 in /usr/local/lib/python3.10/dist-packages (from -r requirements.txt (line 28)) (0.12.2)\n",
            "Requirement already satisfied: setuptools>=65.5.1 in /usr/local/lib/python3.10/dist-packages (from -r requirements.txt (line 42)) (67.7.2)\n",
            "Requirement already satisfied: gitdb<5,>=4.0.1 in /usr/local/lib/python3.10/dist-packages (from gitpython>=3.1.30->-r requirements.txt (line 5)) (4.0.10)\n",
            "Requirement already satisfied: contourpy>=1.0.1 in /usr/local/lib/python3.10/dist-packages (from matplotlib>=3.3->-r requirements.txt (line 6)) (1.0.7)\n",
            "Requirement already satisfied: cycler>=0.10 in /usr/local/lib/python3.10/dist-packages (from matplotlib>=3.3->-r requirements.txt (line 6)) (0.11.0)\n",
            "Requirement already satisfied: fonttools>=4.22.0 in /usr/local/lib/python3.10/dist-packages (from matplotlib>=3.3->-r requirements.txt (line 6)) (4.39.3)\n",
            "Requirement already satisfied: kiwisolver>=1.0.1 in /usr/local/lib/python3.10/dist-packages (from matplotlib>=3.3->-r requirements.txt (line 6)) (1.4.4)\n",
            "Requirement already satisfied: packaging>=20.0 in /usr/local/lib/python3.10/dist-packages (from matplotlib>=3.3->-r requirements.txt (line 6)) (23.1)\n",
            "Requirement already satisfied: pyparsing>=2.3.1 in /usr/local/lib/python3.10/dist-packages (from matplotlib>=3.3->-r requirements.txt (line 6)) (3.0.9)\n",
            "Requirement already satisfied: python-dateutil>=2.7 in /usr/local/lib/python3.10/dist-packages (from matplotlib>=3.3->-r requirements.txt (line 6)) (2.8.2)\n",
            "Requirement already satisfied: urllib3<1.27,>=1.21.1 in /usr/local/lib/python3.10/dist-packages (from requests>=2.23.0->-r requirements.txt (line 12)) (1.26.15)\n",
            "Requirement already satisfied: certifi>=2017.4.17 in /usr/local/lib/python3.10/dist-packages (from requests>=2.23.0->-r requirements.txt (line 12)) (2022.12.7)\n",
            "Requirement already satisfied: charset-normalizer~=2.0.0 in /usr/local/lib/python3.10/dist-packages (from requests>=2.23.0->-r requirements.txt (line 12)) (2.0.12)\n",
            "Requirement already satisfied: idna<4,>=2.5 in /usr/local/lib/python3.10/dist-packages (from requests>=2.23.0->-r requirements.txt (line 12)) (3.4)\n",
            "Requirement already satisfied: filelock in /usr/local/lib/python3.10/dist-packages (from torch>=1.7.0->-r requirements.txt (line 15)) (3.12.0)\n",
            "Requirement already satisfied: typing-extensions in /usr/local/lib/python3.10/dist-packages (from torch>=1.7.0->-r requirements.txt (line 15)) (4.5.0)\n",
            "Requirement already satisfied: sympy in /usr/local/lib/python3.10/dist-packages (from torch>=1.7.0->-r requirements.txt (line 15)) (1.11.1)\n",
            "Requirement already satisfied: networkx in /usr/local/lib/python3.10/dist-packages (from torch>=1.7.0->-r requirements.txt (line 15)) (3.1)\n",
            "Requirement already satisfied: jinja2 in /usr/local/lib/python3.10/dist-packages (from torch>=1.7.0->-r requirements.txt (line 15)) (3.1.2)\n",
            "Requirement already satisfied: triton==2.0.0 in /usr/local/lib/python3.10/dist-packages (from torch>=1.7.0->-r requirements.txt (line 15)) (2.0.0)\n",
            "Requirement already satisfied: cmake in /usr/local/lib/python3.10/dist-packages (from triton==2.0.0->torch>=1.7.0->-r requirements.txt (line 15)) (3.25.2)\n",
            "Requirement already satisfied: lit in /usr/local/lib/python3.10/dist-packages (from triton==2.0.0->torch>=1.7.0->-r requirements.txt (line 15)) (16.0.5)\n",
            "Requirement already satisfied: pytz>=2020.1 in /usr/local/lib/python3.10/dist-packages (from pandas>=1.1.4->-r requirements.txt (line 27)) (2022.7.1)\n",
            "Requirement already satisfied: smmap<6,>=3.0.1 in /usr/local/lib/python3.10/dist-packages (from gitdb<5,>=4.0.1->gitpython>=3.1.30->-r requirements.txt (line 5)) (5.0.0)\n",
            "Requirement already satisfied: six>=1.5 in /usr/local/lib/python3.10/dist-packages (from python-dateutil>=2.7->matplotlib>=3.3->-r requirements.txt (line 6)) (1.16.0)\n",
            "Requirement already satisfied: MarkupSafe>=2.0 in /usr/local/lib/python3.10/dist-packages (from jinja2->torch>=1.7.0->-r requirements.txt (line 15)) (2.1.2)\n",
            "Requirement already satisfied: mpmath>=0.19 in /usr/local/lib/python3.10/dist-packages (from sympy->torch>=1.7.0->-r requirements.txt (line 15)) (1.3.0)\n"
          ]
        }
      ]
    },
    {
      "cell_type": "code",
      "source": [
        "!python train.py --weights yolov5m.pt --batch-size 8 --imgsz 640 --epochs 10  --data datafro.yaml"
      ],
      "metadata": {
        "colab": {
          "base_uri": "https://localhost:8080/"
        },
        "id": "RDJtWdCz4vQU",
        "outputId": "15e7c2c4-055d-4f5a-b88e-663cb94f1767"
      },
      "execution_count": null,
      "outputs": [
        {
          "output_type": "stream",
          "name": "stdout",
          "text": [
            "\u001b[34m\u001b[1mtrain: \u001b[0mweights=yolov5m.pt, cfg=, data=datafro.yaml, hyp=data/hyps/hyp.scratch-low.yaml, epochs=10, batch_size=8, imgsz=640, rect=False, resume=False, nosave=False, noval=False, noautoanchor=False, noplots=False, evolve=None, bucket=, cache=None, image_weights=False, device=, multi_scale=False, single_cls=False, optimizer=SGD, sync_bn=False, workers=8, project=runs/train, name=exp, exist_ok=False, quad=False, cos_lr=False, label_smoothing=0.0, patience=100, freeze=[0], save_period=-1, seed=0, local_rank=-1, entity=None, upload_dataset=False, bbox_interval=-1, artifact_alias=latest\n",
            "\u001b[34m\u001b[1mgithub: \u001b[0mskipping check (not a git repository), for updates see https://github.com/ultralytics/yolov5\n",
            "YOLOv5 🚀 2023-5-30 Python-3.10.12 torch-2.0.1+cu118 CUDA:0 (Tesla T4, 15102MiB)\n",
            "\n",
            "\u001b[34m\u001b[1mhyperparameters: \u001b[0mlr0=0.01, lrf=0.01, momentum=0.937, weight_decay=0.0005, warmup_epochs=3.0, warmup_momentum=0.8, warmup_bias_lr=0.1, box=0.05, cls=0.5, cls_pw=1.0, obj=1.0, obj_pw=1.0, iou_t=0.2, anchor_t=4.0, fl_gamma=0.0, hsv_h=0.015, hsv_s=0.7, hsv_v=0.4, degrees=0.0, translate=0.1, scale=0.5, shear=0.0, perspective=0.0, flipud=0.0, fliplr=0.5, mosaic=1.0, mixup=0.0, copy_paste=0.0\n",
            "\u001b[34m\u001b[1mClearML: \u001b[0mrun 'pip install clearml' to automatically track, visualize and remotely train YOLOv5 🚀 in ClearML\n",
            "\u001b[34m\u001b[1mComet: \u001b[0mrun 'pip install comet_ml' to automatically track and visualize YOLOv5 🚀 runs in Comet\n",
            "\u001b[34m\u001b[1mTensorBoard: \u001b[0mStart with 'tensorboard --logdir runs/train', view at http://localhost:6006/\n",
            "Overriding model.yaml nc=80 with nc=1\n",
            "\n",
            "                 from  n    params  module                                  arguments                     \n",
            "  0                -1  1      5280  models.common.Conv                      [3, 48, 6, 2, 2]              \n",
            "  1                -1  1     41664  models.common.Conv                      [48, 96, 3, 2]                \n",
            "  2                -1  2     65280  models.common.C3                        [96, 96, 2]                   \n",
            "  3                -1  1    166272  models.common.Conv                      [96, 192, 3, 2]               \n",
            "  4                -1  4    444672  models.common.C3                        [192, 192, 4]                 \n",
            "  5                -1  1    664320  models.common.Conv                      [192, 384, 3, 2]              \n",
            "  6                -1  6   2512896  models.common.C3                        [384, 384, 6]                 \n",
            "  7                -1  1   2655744  models.common.Conv                      [384, 768, 3, 2]              \n",
            "  8                -1  2   4134912  models.common.C3                        [768, 768, 2]                 \n",
            "  9                -1  1   1476864  models.common.SPPF                      [768, 768, 5]                 \n",
            " 10                -1  1    295680  models.common.Conv                      [768, 384, 1, 1]              \n",
            " 11                -1  1         0  torch.nn.modules.upsampling.Upsample    [None, 2, 'nearest']          \n",
            " 12           [-1, 6]  1         0  models.common.Concat                    [1]                           \n",
            " 13                -1  2   1182720  models.common.C3                        [768, 384, 2, False]          \n",
            " 14                -1  1     74112  models.common.Conv                      [384, 192, 1, 1]              \n",
            " 15                -1  1         0  torch.nn.modules.upsampling.Upsample    [None, 2, 'nearest']          \n",
            " 16           [-1, 4]  1         0  models.common.Concat                    [1]                           \n",
            " 17                -1  2    296448  models.common.C3                        [384, 192, 2, False]          \n",
            " 18                -1  1    332160  models.common.Conv                      [192, 192, 3, 2]              \n",
            " 19          [-1, 14]  1         0  models.common.Concat                    [1]                           \n",
            " 20                -1  2   1035264  models.common.C3                        [384, 384, 2, False]          \n",
            " 21                -1  1   1327872  models.common.Conv                      [384, 384, 3, 2]              \n",
            " 22          [-1, 10]  1         0  models.common.Concat                    [1]                           \n",
            " 23                -1  2   4134912  models.common.C3                        [768, 768, 2, False]          \n",
            " 24      [17, 20, 23]  1     24246  models.yolo.Detect                      [1, [[10, 13, 16, 30, 33, 23], [30, 61, 62, 45, 59, 119], [116, 90, 156, 198, 373, 326]], [192, 384, 768]]\n",
            "Model summary: 291 layers, 20871318 parameters, 20871318 gradients, 48.2 GFLOPs\n",
            "\n",
            "Transferred 475/481 items from yolov5m.pt\n",
            "\u001b[34m\u001b[1mAMP: \u001b[0mchecks passed ✅\n",
            "\u001b[34m\u001b[1moptimizer:\u001b[0m SGD(lr=0.01) with parameter groups 79 weight(decay=0.0), 82 weight(decay=0.0005), 82 bias\n",
            "\u001b[34m\u001b[1malbumentations: \u001b[0mBlur(p=0.01, blur_limit=(3, 7)), MedianBlur(p=0.01, blur_limit=(3, 7)), ToGray(p=0.01), CLAHE(p=0.01, clip_limit=(1, 4.0), tile_grid_size=(8, 8))\n",
            "\u001b[34m\u001b[1mtrain: \u001b[0mScanning /content/drive/MyDrive/YOLOV5/data/images/train/labels.cache... 6166 images, 0 backgrounds, 0 corrupt: 100% 6166/6166 [00:00<?, ?it/s]\n",
            "\u001b[34m\u001b[1mval: \u001b[0mScanning /content/drive/MyDrive/YOLOV5/data/images/valid/labels.cache... 769 images, 0 backgrounds, 0 corrupt: 100% 769/769 [00:00<?, ?it/s]\n",
            "\n",
            "\u001b[34m\u001b[1mAutoAnchor: \u001b[0m3.54 anchors/target, 0.998 Best Possible Recall (BPR). Current anchors are a good fit to dataset ✅\n",
            "Plotting labels to runs/train/exp6/labels.jpg... \n",
            "Image sizes 640 train, 640 val\n",
            "Using 4 dataloader workers\n",
            "Logging results to \u001b[1mruns/train/exp6\u001b[0m\n",
            "Starting training for 10 epochs...\n",
            "\n",
            "      Epoch    GPU_mem   box_loss   obj_loss   cls_loss  Instances       Size\n",
            "        0/9      3.11G    0.09798    0.02561          0         12        640:  12% 92/771 [07:30<35:20,  3.12s/it]"
          ]
        }
      ]
    },
    {
      "cell_type": "code",
      "source": [
        "!python detect.py --weights runs/train/exp/weights/best.pt --source data/images/test/images/ --conf 0.5"
      ],
      "metadata": {
        "colab": {
          "base_uri": "https://localhost:8080/"
        },
        "id": "VQKKui-Z9jUN",
        "outputId": "2a1a606a-c2be-460b-acd1-db1a308b9363"
      },
      "execution_count": null,
      "outputs": [
        {
          "output_type": "stream",
          "name": "stdout",
          "text": [
            "\u001b[34m\u001b[1mdetect: \u001b[0mweights=['runs/train/exp/weights/best.pt'], source=data/images/test/images/, data=data/coco128.yaml, imgsz=[640, 640], conf_thres=0.5, iou_thres=0.45, max_det=1000, device=, view_img=False, save_txt=False, save_conf=False, save_crop=False, nosave=False, classes=None, agnostic_nms=False, augment=False, visualize=False, update=False, project=runs/detect, name=exp, exist_ok=False, line_thickness=3, hide_labels=False, hide_conf=False, half=False, dnn=False, vid_stride=1\n",
            "YOLOv5 🚀 2023-5-30 Python-3.10.11 torch-2.0.1+cu118 CUDA:0 (Tesla V100-SXM2-16GB, 16151MiB)\n",
            "\n",
            "Fusing layers... \n",
            "Model summary: 157 layers, 1764577 parameters, 0 gradients, 4.1 GFLOPs\n",
            "image 1/92 /content/drive/MyDrive/yolov53animal/data/images/test/images/OIP-_JAjp2YUwtnIMkoYOjPRKgHaFj_jpeg.rf.f56f8874bee07a483995c1f3bc70d267.jpg: 640x640 1 cow, 6.0ms\n",
            "image 2/92 /content/drive/MyDrive/yolov53animal/data/images/test/images/OIP-_T8AQvjmXvcLySyAH7_UpwHaE__jpeg.rf.2ceec4bef74fca54ee5649989c4d08d9.jpg: 640x640 (no detections), 5.8ms\n",
            "image 3/92 /content/drive/MyDrive/yolov53animal/data/images/test/images/OIP-a8Kc6bcHt4HtIdjBys77qAHaFj_jpeg.rf.86325b94b36825d782bc841476cf8317.jpg: 640x640 1 cow, 5.9ms\n",
            "image 4/92 /content/drive/MyDrive/yolov53animal/data/images/test/images/OIP-a8dsHSJtuL6RY_cevmr6UgHaHa_jpeg.rf.bd62b76d91dac1b8e7a41f6b4e34bdbf.jpg: 640x640 1 cow, 6.1ms\n",
            "image 5/92 /content/drive/MyDrive/yolov53animal/data/images/test/images/OIP-arMnfr9iBzjsyZCeD1_ZeAHaEo_jpeg.rf.8adb6f86988bc3ffc656a559f27a7119.jpg: 640x640 (no detections), 6.1ms\n",
            "image 6/92 /content/drive/MyDrive/yolov53animal/data/images/test/images/OIP-bEj_uP4nQFq7HdQhj5-IwAHaEK_jpeg.rf.1623a3af333ce7226605336c24a162b4.jpg: 640x640 1 cow, 6.4ms\n",
            "image 7/92 /content/drive/MyDrive/yolov53animal/data/images/test/images/OIP-bLSySjSjfpVr3sLxep_ETwHaFV_jpeg.rf.1d3533b6a906e9dec776e06cbc685195.jpg: 640x640 2 cows, 5.8ms\n",
            "image 8/92 /content/drive/MyDrive/yolov53animal/data/images/test/images/OIP-bZYNerxduTAR3t-99nGOggHaFN_jpeg.rf.7e0d24a47dbf27f036bcd9a82c61362c.jpg: 640x640 1 cow, 6.1ms\n",
            "image 9/92 /content/drive/MyDrive/yolov53animal/data/images/test/images/OIP-c38P0q72J9QaqvWrsLXM5QHaE7_jpeg.rf.df6c4494a10bd087f38d95a8703dfc87.jpg: 640x640 (no detections), 6.2ms\n",
            "image 10/92 /content/drive/MyDrive/yolov53animal/data/images/test/images/OIP-cZ2lWiX5ZdVLGRGDSlZzWwHaFb_jpeg.rf.90898e3f4fe04fdc481a1fd8df76eda8.jpg: 640x640 1 cow, 6.1ms\n",
            "image 11/92 /content/drive/MyDrive/yolov53animal/data/images/test/images/OIP-chdqMCoeMCu1PJ9MDrFSZQHaF7_jpeg.rf.77c725d6557db23dc2fa3f5ab95f22c5.jpg: 640x640 1 cow, 6.0ms\n",
            "image 12/92 /content/drive/MyDrive/yolov53animal/data/images/test/images/OIP-cj289opM53eTi1BrZjEfiAHaFL_jpeg.rf.8c388c9ece13567c2ab17b36c8b598c5.jpg: 640x640 (no detections), 5.8ms\n",
            "image 13/92 /content/drive/MyDrive/yolov53animal/data/images/test/images/OIP-cuudc_nKoleR5irD27P6RQAAAA_jpeg.rf.20bd8dfd6244a102dd0f4ad2ebd891aa.jpg: 640x640 1 cow, 5.8ms\n",
            "image 14/92 /content/drive/MyDrive/yolov53animal/data/images/test/images/OIP-dFiMbaJIRR4WOq98z96bfwHaJ4_jpeg.rf.5f8e3a38e5d7eb21d231f893b0377b62.jpg: 640x640 1 dog, 6.1ms\n",
            "image 15/92 /content/drive/MyDrive/yolov53animal/data/images/test/images/OIP-dU_0Z7ZmMFTbwM6vHqmm7AHaFj_jpeg.rf.25b913f58a7ea5e605f7cf3fe7b8f36b.jpg: 640x640 1 cow, 5.9ms\n",
            "image 16/92 /content/drive/MyDrive/yolov53animal/data/images/test/images/OIP-dbL3J8iYVwwpuvH_AGbKfwHaFS_jpeg.rf.ded355e28c201d8a6d63e622d1496b8a.jpg: 640x640 2 cows, 6.2ms\n",
            "image 17/92 /content/drive/MyDrive/yolov53animal/data/images/test/images/OIP-dcHHD__EXsmMJehIx2Jc0QHaFw_jpeg.rf.f6a5e2195b9844e9e709be303dba532f.jpg: 640x640 3 cows, 6.4ms\n",
            "image 18/92 /content/drive/MyDrive/yolov53animal/data/images/test/images/OIP-dtvQv3GbgU2KWZQoE16DcQHaFj_jpeg.rf.04b31817d8f2f30e3f084ea2aa63b169.jpg: 640x640 1 cow, 6.1ms\n",
            "image 19/92 /content/drive/MyDrive/yolov53animal/data/images/test/images/OIP-e-F2TFszXfVhj1deY97HZAHaDR_jpeg.rf.3f9a0a5a18c307c6776f5782996d7f1e.jpg: 640x640 2 cows, 6.1ms\n",
            "image 20/92 /content/drive/MyDrive/yolov53animal/data/images/test/images/OIP-edKZfP9IcsPoTWsNFtTFcgHaEp_jpeg.rf.d401e1e85125d71434fed6519be321a2.jpg: 640x640 2 cows, 5.9ms\n",
            "image 21/92 /content/drive/MyDrive/yolov53animal/data/images/test/images/OIP-emebs7yJv0R0AEqNyd4n3wHaFj_jpeg.rf.ec46b7901323518fe56dfe6970f01155.jpg: 640x640 (no detections), 7.3ms\n",
            "image 22/92 /content/drive/MyDrive/yolov53animal/data/images/test/images/OIP-fZBUw0SvPpgm9V1m4D4JDgHaDt_jpeg.rf.f6a6df8220429ee732ff84494bfbd455.jpg: 640x640 (no detections), 6.1ms\n",
            "image 23/92 /content/drive/MyDrive/yolov53animal/data/images/test/images/OIP-ftGK8InJzHieI1FkZScNMAHaFD_jpeg.rf.156456b3be563c44f88b6517dbfe3dfb.jpg: 640x640 2 cows, 5.8ms\n",
            "image 24/92 /content/drive/MyDrive/yolov53animal/data/images/test/images/OIP-gGO42dv7gG1un_XStiR24gHaEJ_jpeg.rf.ee088315143b09048af4f1930d985562.jpg: 640x640 (no detections), 6.1ms\n",
            "image 25/92 /content/drive/MyDrive/yolov53animal/data/images/test/images/OIP-gUDY_5en29FjKVpU5pn4qwHaDn_jpeg.rf.1fe28d1d0fed31fcb8593962aba1c369.jpg: 640x640 1 chicken, 6.2ms\n",
            "image 26/92 /content/drive/MyDrive/yolov53animal/data/images/test/images/OIP-gZzXeSGi3eTY8WHLATSWgwHaFj_jpeg.rf.73d90168a2ad54fb4654128e3948e3e8.jpg: 640x640 1 chicken, 6.0ms\n",
            "image 27/92 /content/drive/MyDrive/yolov53animal/data/images/test/images/OIP-h-JPM5jHqEMVtXX72h-yfwHaJc_jpeg.rf.bd29344e7ff96bcccb2d999689c8d84d.jpg: 640x640 1 chicken, 7.6ms\n",
            "image 28/92 /content/drive/MyDrive/yolov53animal/data/images/test/images/OIP-h3Y7UYOBr3pBa1k7UImMcAHaKn_jpeg.rf.216657e12b7e870595fd0f5436b2ffe4.jpg: 640x640 (no detections), 6.0ms\n",
            "image 29/92 /content/drive/MyDrive/yolov53animal/data/images/test/images/OIP-hPPeN91guI9ITb4zLBGDpgHaFj_jpeg.rf.169da0b1c3dfd40ebc5d72fa87b69fc1.jpg: 640x640 2 chickens, 6.0ms\n",
            "image 30/92 /content/drive/MyDrive/yolov53animal/data/images/test/images/OIP-hTTu1U_DltH_dTrMiHb93gHaFj_jpeg.rf.8ca87d644e6c0614327f10ed8b293796.jpg: 640x640 2 chickens, 6.2ms\n",
            "image 31/92 /content/drive/MyDrive/yolov53animal/data/images/test/images/OIP-hu-D7O-rGfx3xoeN12_zKQHaFi_jpeg.rf.ee90c851139b773d3f235e4eba379625.jpg: 640x640 (no detections), 6.1ms\n",
            "image 32/92 /content/drive/MyDrive/yolov53animal/data/images/test/images/OIP-hyzBikuzEhTU2hUOeobT7QHaFj_jpeg.rf.93c5a88b5fd5f36dd8747a2545e5360d.jpg: 640x640 (no detections), 6.0ms\n",
            "image 33/92 /content/drive/MyDrive/yolov53animal/data/images/test/images/OIP-i9TDCTZ4UVbIvi67lfPrVAHaHa_jpeg.rf.aacd0f2f0a485097b5a797c06128a66c.jpg: 640x640 1 chicken, 5.9ms\n",
            "image 34/92 /content/drive/MyDrive/yolov53animal/data/images/test/images/OIP-iJCLNAA2-_r25C0zPf7fYwHaDn_jpeg.rf.38fec503b432113015e28c128f2016c7.jpg: 640x640 (no detections), 6.2ms\n",
            "image 35/92 /content/drive/MyDrive/yolov53animal/data/images/test/images/OIP-iQFnI1ymR5V_MF2uTO-MswHaFk_jpeg.rf.92bae8a0ff236e90b5c464a06dfbb791.jpg: 640x640 1 chicken, 5.8ms\n",
            "image 36/92 /content/drive/MyDrive/yolov53animal/data/images/test/images/OIP-iXVwUx8IyNja_pxgUCa4SAHaE6_jpeg.rf.71088613d5d0d3f175f104552e7ec049.jpg: 640x640 1 chicken, 6.0ms\n",
            "image 37/92 /content/drive/MyDrive/yolov53animal/data/images/test/images/OIP-icZZakmyzPaaaO6ctWQ5owHaJF_jpeg.rf.4e44da42ce55cbc764c8ec29eec418ac.jpg: 640x640 (no detections), 5.8ms\n",
            "image 38/92 /content/drive/MyDrive/yolov53animal/data/images/test/images/OIP-iqVOOUjKpRhNWj8fPXnqNwHaHa_jpeg.rf.56a11564ff566c2ac8a2ece13ce653f9.jpg: 640x640 1 chicken, 5.9ms\n",
            "image 39/92 /content/drive/MyDrive/yolov53animal/data/images/test/images/OIP-jWyyPIdqY9BwyoreibH0mAHaD4_jpeg.rf.e87e9a417659a56abb9b1c6267161402.jpg: 640x640 (no detections), 5.9ms\n",
            "image 40/92 /content/drive/MyDrive/yolov53animal/data/images/test/images/OIP-k7dTg_PMteg5olaaUP_RbgHaE8_jpeg.rf.f8fbd81702e055a32ed8a1b8c113c687.jpg: 640x640 1 chicken, 6.1ms\n",
            "image 41/92 /content/drive/MyDrive/yolov53animal/data/images/test/images/OIP-kPGUrufnfBzeH3ieWr-MjgHaGl_jpeg.rf.363f6e7b21c46810a7c083ab713b4d51.jpg: 640x640 1 chicken, 6.0ms\n",
            "image 42/92 /content/drive/MyDrive/yolov53animal/data/images/test/images/OIP-kPqIK5PFWXVf1px9XME7RgHaFj_jpeg.rf.10966aacc8fc389b0a3ca92ca0839d4d.jpg: 640x640 2 chickens, 5.8ms\n",
            "image 43/92 /content/drive/MyDrive/yolov53animal/data/images/test/images/OIP-kjQMOXZ8LaV5CVbNBPkWRQHaH6_jpeg.rf.e5ae56256267a2683610f89b6b3189ce.jpg: 640x640 1 chicken, 6.4ms\n",
            "image 44/92 /content/drive/MyDrive/yolov53animal/data/images/test/images/OIP-kmWEodlWxJle1tIgjf6B2QAAAA_jpeg.rf.48794edaf9eaf5e37c6df81f8a872f32.jpg: 640x640 1 chicken, 5.8ms\n",
            "image 45/92 /content/drive/MyDrive/yolov53animal/data/images/test/images/OIP-w_yfTyzRNftC7BJ8Dgh-dAHaE7_jpeg.rf.cd074eae6cc46e6cc0ac071d79dc9fab.jpg: 640x640 (no detections), 6.2ms\n",
            "image 46/92 /content/drive/MyDrive/yolov53animal/data/images/test/images/OIP-weP1Nu8eGMZJBX9l4aZcOwHaJ4_jpeg.rf.3c71f27b5bc5ea5017046bb65cf947e3.jpg: 640x640 (no detections), 7.2ms\n",
            "image 47/92 /content/drive/MyDrive/yolov53animal/data/images/test/images/OIP-weuIr_LHTQ2iX_P1ek3hxgHaHa_jpeg.rf.3c39d163ea759779195c8c1f47378d03.jpg: 640x640 (no detections), 5.6ms\n",
            "image 48/92 /content/drive/MyDrive/yolov53animal/data/images/test/images/OIP-wjEQjtoY6rkNxWBjCsk62gHaE7_jpeg.rf.07f62035f89d58eb1deb080476f808b7.jpg: 640x640 1 dog, 5.7ms\n",
            "image 49/92 /content/drive/MyDrive/yolov53animal/data/images/test/images/OIP-wjmPExUlVvKzO0XBTCNrkgHaH0_jpeg.rf.f877f08a28933ca4bc634caea9574fe6.jpg: 640x640 1 dog, 5.8ms\n",
            "image 50/92 /content/drive/MyDrive/yolov53animal/data/images/test/images/OIP-wv9eIefbFqs4ONjRsU7h9AHaGa_jpeg.rf.a2716ba678a07cd39826c803b1604ebe.jpg: 640x640 1 dog, 5.7ms\n",
            "image 51/92 /content/drive/MyDrive/yolov53animal/data/images/test/images/OIP-xN8cYtkF14kNY7zqIZCK_QHaE0_jpeg.rf.5db88b8c2399ebbd195ee61e4212d792.jpg: 640x640 1 dog, 5.8ms\n",
            "image 52/92 /content/drive/MyDrive/yolov53animal/data/images/test/images/OIP-xeczKa5df0lAwrWgmz9VuwHaIW_jpeg.rf.58cf2ae6c4641fc993b9cf398f7bbaa6.jpg: 640x640 (no detections), 6.1ms\n",
            "image 53/92 /content/drive/MyDrive/yolov53animal/data/images/test/images/OIP-xrSxcDBCYNeVw71Aq1vCJQHaFW_jpeg.rf.a7969e6ffc1e2552de288cea0fd98f30.jpg: 640x640 1 dog, 6.9ms\n",
            "image 54/92 /content/drive/MyDrive/yolov53animal/data/images/test/images/OIP-xtBuYZdAiTtFzImJUkc8rwHaE8_jpeg.rf.dbe94fbd2025fcc32ae26d10d6a0247a.jpg: 640x640 1 dog, 5.6ms\n",
            "image 55/92 /content/drive/MyDrive/yolov53animal/data/images/test/images/OIP-y1c7s2zwRa95UfTzNTS-PQHaI0_jpeg.rf.1fae4b7b0774aff44eba3e57f9fe7eaf.jpg: 640x640 (no detections), 6.2ms\n",
            "image 56/92 /content/drive/MyDrive/yolov53animal/data/images/test/images/OIP-y2kh2-MUfwrTSE4n5P2d-AHaFj_jpeg.rf.af1b53a6e1747631988fb33db9826767.jpg: 640x640 (no detections), 6.0ms\n",
            "image 57/92 /content/drive/MyDrive/yolov53animal/data/images/test/images/OIP-yAV2HU_HOI5MChTv8dUuKAHaKD_jpeg.rf.faf746815723b9a23b760d93dabfed48.jpg: 640x640 1 dog, 6.2ms\n",
            "image 58/92 /content/drive/MyDrive/yolov53animal/data/images/test/images/OIP-yFGxz3djgyy1y0QbobQBSwHaHa_jpeg.rf.b53dbad6a8d9ef7f50ff80134a5191c8.jpg: 640x640 1 dog, 5.8ms\n",
            "image 59/92 /content/drive/MyDrive/yolov53animal/data/images/test/images/OIP-yZ49leTKnwacXlkXeleEIAHaFj_jpeg.rf.4e18ab84180271f7094b5f923d9be0a5.jpg: 640x640 2 dogs, 5.7ms\n",
            "image 60/92 /content/drive/MyDrive/yolov53animal/data/images/test/images/OIP-ybht0YmqhxsHokbwu8owMQHaE8_jpeg.rf.55f3953e6e174dc7e2233ba780873cda.jpg: 640x640 1 dog, 5.9ms\n",
            "image 61/92 /content/drive/MyDrive/yolov53animal/data/images/test/images/OIP-ycwaml2pA3wGnCh8NQpCxQHaH__jpeg.rf.eac703c2470cee51ccf9e9eb9f134ef2.jpg: 640x640 1 dog, 5.9ms\n",
            "image 62/92 /content/drive/MyDrive/yolov53animal/data/images/test/images/OIP-yrVN1bK4ojWS4Yx4MjPfVwHaMW_jpeg.rf.047a718395dd33b609c2b5eec3a05e11.jpg: 640x640 (no detections), 5.7ms\n",
            "image 63/92 /content/drive/MyDrive/yolov53animal/data/images/test/images/OIP-yrutVSSIu0pKoDGJm5cCXQHaF5_jpeg.rf.5261dd90a204b05ba1c90cab276766ea.jpg: 640x640 3 dogs, 5.8ms\n",
            "image 64/92 /content/drive/MyDrive/yolov53animal/data/images/test/images/OIP-z7mAkLenfVJ2awYPNoKaugHaEK_jpeg.rf.b9cb8cecc62487537d078fea90e9bfa7.jpg: 640x640 1 dog, 5.9ms\n",
            "image 65/92 /content/drive/MyDrive/yolov53animal/data/images/test/images/OIP-z9oGJoCg3EIOhwkwk40SqQHaEX_jpeg.rf.d76aa031c4b1de89f7624ed0fb19b2ae.jpg: 640x640 (no detections), 6.0ms\n",
            "image 66/92 /content/drive/MyDrive/yolov53animal/data/images/test/images/OIP-zBR5lVSKrI9cY_C3TIh5lwHaJu_jpeg.rf.12d77a7284a32b109b16a904b79cc2a2.jpg: 640x640 1 dog, 5.9ms\n",
            "image 67/92 /content/drive/MyDrive/yolov53animal/data/images/test/images/OIP-zLa3jby0f-U-eir6Fj5_8gHaD3_jpeg.rf.8f2b1ae2d9bb2899d3f74a352df54e48.jpg: 640x640 2 dogs, 5.7ms\n",
            "image 68/92 /content/drive/MyDrive/yolov53animal/data/images/test/images/OIP-zhDmD1wUEbdDijZxaWHCFQHaLC_jpeg.rf.5faa0a7d58c08cd0f26d595d5c79ec42.jpg: 640x640 1 dog, 5.5ms\n",
            "image 69/92 /content/drive/MyDrive/yolov53animal/data/images/test/images/ea35b40a2bf0013ed1584d05fb1d4e9fe777ead218ac104497f5c978a7e8b7bc_640_jpg.rf.c1d108f840da8f9761f78efe091f3d94.jpg: 640x640 1 cat, 5.6ms\n",
            "image 70/92 /content/drive/MyDrive/yolov53animal/data/images/test/images/ea35b6092cfd043ed1584d05fb1d4e9fe777ead218ac104497f5c978a7ebb0bb_640_jpg.rf.0f3f80189145610a1eaa1881509b8ff4.jpg: 640x640 (no detections), 5.7ms\n",
            "image 71/92 /content/drive/MyDrive/yolov53animal/data/images/test/images/ea36b00c21f3073ed1584d05fb1d4e9fe777ead218ac104497f5c978a7ebb0bb_640_jpg.rf.f3480286683ce3d4f892356957593b66.jpg: 640x640 (no detections), 5.8ms\n",
            "image 72/92 /content/drive/MyDrive/yolov53animal/data/images/test/images/ea36b00e2ef7013ed1584d05fb1d4e9fe777ead218ac104497f5c978a7eebdbb_640_jpg.rf.8db919e4ef7d8f58770fe53e4f42bf2e.jpg: 640x640 (no detections), 6.1ms\n",
            "image 73/92 /content/drive/MyDrive/yolov53animal/data/images/test/images/ea36b10c2cf1053ed1584d05fb1d4e9fe777ead218ac104497f5c978a7e8b7bc_640_jpg.rf.8175da3cc56986d12341d139214900a6.jpg: 640x640 1 cat, 6.5ms\n",
            "image 74/92 /content/drive/MyDrive/yolov53animal/data/images/test/images/ea36b10f21f3083ed1584d05fb1d4e9fe777ead218ac104497f5c978a7eebdbb_640_jpg.rf.d6713fa805008a7648d62bc396456b48.jpg: 640x640 (no detections), 5.9ms\n",
            "image 75/92 /content/drive/MyDrive/yolov53animal/data/images/test/images/ea36b20b20f2083ed1584d05fb1d4e9fe777ead218ac104497f5c978a7eebdbb_640_jpg.rf.f2ef9b590011346ba3c4347756bf3772.jpg: 640x640 (no detections), 5.9ms\n",
            "image 76/92 /content/drive/MyDrive/yolov53animal/data/images/test/images/ea36b20f20f1033ed1584d05fb1d4e9fe777ead218ac104497f5c978a7e8b7bc_640_jpg.rf.99c9fa1e62001007d4f69eb14b7018a6.jpg: 640x640 1 cat, 5.8ms\n",
            "image 77/92 /content/drive/MyDrive/yolov53animal/data/images/test/images/ea36b60f2cfd093ed1584d05fb1d4e9fe777ead218ac104497f5c978a7eebdbb_640_jpg.rf.889130ea2096f71da1a913b33dca323c.jpg: 640x640 1 cat, 6.3ms\n",
            "image 78/92 /content/drive/MyDrive/yolov53animal/data/images/test/images/ea36b70c2ff3093ed1584d05fb1d4e9fe777ead218ac104497f5c978a7eebdbb_640_jpg.rf.f5807959b4241bed1df844c87ebd0ce4.jpg: 640x640 1 cat, 6.0ms\n",
            "image 79/92 /content/drive/MyDrive/yolov53animal/data/images/test/images/ea37b90f2df7013ed1584d05fb1d4e9fe777ead218ac104497f5c978a7e8b7bc_640_jpg.rf.143f2ccd1c2ef1e2f570e8b5b6721430.jpg: 640x640 (no detections), 5.9ms\n",
            "image 80/92 /content/drive/MyDrive/yolov53animal/data/images/test/images/eb35b90c2cfd033ed1584d05fb1d4e9fe777ead218ac104497f5c979aee4b1bf_640_jpg.rf.d60a61f23ffea73533bf745b81ac7427.jpg: 640x640 1 cat, 5.7ms\n",
            "image 81/92 /content/drive/MyDrive/yolov53animal/data/images/test/images/eb36b70629f2083ed1584d05fb1d4e9fe777ead218ac104497f5c978a7e8b7bc_640_jpg.rf.d92108f2f0db4972646456566d2aa4a2.jpg: 640x640 1 cat, 5.8ms\n",
            "image 82/92 /content/drive/MyDrive/yolov53animal/data/images/test/images/eb3db60e2ef1043ed1584d05fb1d4e9fe777ead218ac104497f5c978a7ebb0bb_640_jpg.rf.cc9fb4c5fff8beb3c062efd36f137cf7.jpg: 640x640 1 cat, 5.8ms\n",
            "image 83/92 /content/drive/MyDrive/yolov53animal/data/images/test/images/ee32b90c29f11c22d2524518b7444f92e37fe5d404b0144390f8c079a4e5b6_640_jpg.rf.bb2d2560bc7fd2dac35c1a18990153bb.jpg: 640x640 (no detections), 6.0ms\n",
            "image 84/92 /content/drive/MyDrive/yolov53animal/data/images/test/images/ee37b70620fd1c22d2524518b7444f92e37fe5d404b0144390f8c079a2efb1_640_jpg.rf.5b8b4838e17ac1455257a7e9465d5c90.jpg: 640x640 1 cat, 5.7ms\n",
            "image 85/92 /content/drive/MyDrive/yolov53animal/data/images/test/images/ef3db70728f71c22d2524518b7444f92e37fe5d404b0144390f8c079a2efb1_640_jpg.rf.5a103f7cfaa5cff5caeddb027700bac8.jpg: 640x640 1 cat, 5.8ms\n",
            "image 86/92 /content/drive/MyDrive/yolov53animal/data/images/test/images/jannik-selz-335261-unsplash_jpg.rf.bd22b1cb42887e25996b6d757bd36e8a.jpg: 640x640 (no detections), 5.8ms\n",
            "image 87/92 /content/drive/MyDrive/yolov53animal/data/images/test/images/kari-shea-471277-unsplash_jpg.rf.8f25a703d984dbbf360aa804f2a6f917.jpg: 640x640 (no detections), 6.1ms\n",
            "image 88/92 /content/drive/MyDrive/yolov53animal/data/images/test/images/lucija-ros-538675-unsplash_jpg.rf.7785a687ceef29f5acf97ba1beef864e.jpg: 640x640 (no detections), 6.8ms\n",
            "image 89/92 /content/drive/MyDrive/yolov53animal/data/images/test/images/mikhail-vasilyev-130018-unsplash_jpg.rf.760b1a4149cc9b468271cd1d806ae8de.jpg: 640x640 1 cat, 5.8ms\n",
            "image 90/92 /content/drive/MyDrive/yolov53animal/data/images/test/images/paul-hanaoka-273394-unsplash_jpg.rf.57acb4b4b1d9769aa39a088de772a807.jpg: 640x640 (no detections), 6.4ms\n",
            "image 91/92 /content/drive/MyDrive/yolov53animal/data/images/test/images/paul-hanaoka-280209-unsplash_jpg.rf.b6850b77599153506b3a179b05b25411.jpg: 640x640 1 cat, 6.3ms\n",
            "image 92/92 /content/drive/MyDrive/yolov53animal/data/images/test/images/sam-burriss-378658-unsplash_jpg.rf.535984993d8a2d3f625f191f3598e741.jpg: 640x640 (no detections), 6.3ms\n",
            "Speed: 0.6ms pre-process, 6.0ms inference, 0.8ms NMS per image at shape (1, 3, 640, 640)\n",
            "Results saved to \u001b[1mruns/detect/exp2\u001b[0m\n"
          ]
        }
      ]
    }
  ]
}